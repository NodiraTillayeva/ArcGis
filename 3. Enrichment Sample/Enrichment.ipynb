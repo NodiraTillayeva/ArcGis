{
 "cells": [
  {
   "cell_type": "code",
   "execution_count": 1,
   "metadata": {},
   "outputs": [],
   "source": [
    "from arcgis.gis import GIS\n",
    "import getpass\n",
    "from arcgis.geoenrichment import *\n",
    "from arcgis.geometry import Polygon\n",
    "from arcgis.gis import GIS\n",
    "import getpass\n",
    "import pandas as pd\n",
    "from arcgis.features import GeoAccessor, GeoSeriesAccessor\n",
    "from IPython.display import display"
   ]
  },
  {
   "cell_type": "code",
   "execution_count": 2,
   "metadata": {},
   "outputs": [
    {
     "name": "stdout",
     "output_type": "stream",
     "text": [
      "Connected to learngis2.maps.arcgis.com\n"
     ]
    }
   ],
   "source": [
    "#Connect to my account\n",
    "\n",
    "password= getpass.getpass(\"Enter pass\")\n",
    "gis= GIS(\"https://www.arcgis.com\", \"Nodira_Tillayeva_LearnArcGIS\", password)\n",
    "print(\"Connected to {}\".format(gis.properties.urlKey+\".\"+gis.properties.customBaseUrl))"
   ]
  },
  {
   "cell_type": "code",
   "execution_count": 3,
   "metadata": {},
   "outputs": [
    {
     "data": {
      "text/html": [
       "<div>\n",
       "<style scoped>\n",
       "    .dataframe tbody tr th:only-of-type {\n",
       "        vertical-align: middle;\n",
       "    }\n",
       "\n",
       "    .dataframe tbody tr th {\n",
       "        vertical-align: top;\n",
       "    }\n",
       "\n",
       "    .dataframe thead th {\n",
       "        text-align: right;\n",
       "    }\n",
       "</style>\n",
       "<table border=\"1\" class=\"dataframe\">\n",
       "  <thead>\n",
       "    <tr style=\"text-align: right;\">\n",
       "      <th></th>\n",
       "      <th>iso2</th>\n",
       "      <th>iso3</th>\n",
       "      <th>name</th>\n",
       "      <th>alt_name</th>\n",
       "      <th>datasets</th>\n",
       "      <th>default_dataset</th>\n",
       "      <th>continent</th>\n",
       "    </tr>\n",
       "  </thead>\n",
       "  <tbody>\n",
       "    <tr>\n",
       "      <th>0</th>\n",
       "      <td>AL</td>\n",
       "      <td>ALB</td>\n",
       "      <td>Albania</td>\n",
       "      <td>ALBANIA</td>\n",
       "      <td>[ALB_MBR_2021]</td>\n",
       "      <td>ALB_MBR_2021</td>\n",
       "      <td>Europe</td>\n",
       "    </tr>\n",
       "    <tr>\n",
       "      <th>1</th>\n",
       "      <td>DZ</td>\n",
       "      <td>DZA</td>\n",
       "      <td>Algeria</td>\n",
       "      <td>ALGERIA</td>\n",
       "      <td>[DZA_MBR_2021]</td>\n",
       "      <td>DZA_MBR_2021</td>\n",
       "      <td>Africa</td>\n",
       "    </tr>\n",
       "    <tr>\n",
       "      <th>2</th>\n",
       "      <td>AD</td>\n",
       "      <td>AND</td>\n",
       "      <td>Andorra</td>\n",
       "      <td>ANDORRA</td>\n",
       "      <td>[AND_MBR_2021]</td>\n",
       "      <td>AND_MBR_2021</td>\n",
       "      <td>Europe</td>\n",
       "    </tr>\n",
       "    <tr>\n",
       "      <th>3</th>\n",
       "      <td>AO</td>\n",
       "      <td>AGO</td>\n",
       "      <td>Angola</td>\n",
       "      <td>ANGOLA</td>\n",
       "      <td>[AGO_MBR_2021]</td>\n",
       "      <td>AGO_MBR_2021</td>\n",
       "      <td>Africa</td>\n",
       "    </tr>\n",
       "    <tr>\n",
       "      <th>4</th>\n",
       "      <td>AI</td>\n",
       "      <td>AIA</td>\n",
       "      <td>Anguilla</td>\n",
       "      <td>ANGUILLA</td>\n",
       "      <td>[AIA_MBR_2020]</td>\n",
       "      <td>AIA_MBR_2020</td>\n",
       "      <td>North America</td>\n",
       "    </tr>\n",
       "    <tr>\n",
       "      <th>...</th>\n",
       "      <td>...</td>\n",
       "      <td>...</td>\n",
       "      <td>...</td>\n",
       "      <td>...</td>\n",
       "      <td>...</td>\n",
       "      <td>...</td>\n",
       "      <td>...</td>\n",
       "    </tr>\n",
       "    <tr>\n",
       "      <th>172</th>\n",
       "      <td>VE</td>\n",
       "      <td>VEN</td>\n",
       "      <td>Venezuela</td>\n",
       "      <td>VENEZUELA, BOLIVARIAN REPUBLIC OF</td>\n",
       "      <td>[VEN_MBR_2021]</td>\n",
       "      <td>VEN_MBR_2021</td>\n",
       "      <td>South America</td>\n",
       "    </tr>\n",
       "    <tr>\n",
       "      <th>173</th>\n",
       "      <td>VN</td>\n",
       "      <td>VNM</td>\n",
       "      <td>Vietnam</td>\n",
       "      <td>VIET NAM</td>\n",
       "      <td>[VNM_MBR_2022]</td>\n",
       "      <td>VNM_MBR_2022</td>\n",
       "      <td>Asia</td>\n",
       "    </tr>\n",
       "    <tr>\n",
       "      <th>174</th>\n",
       "      <td>VI</td>\n",
       "      <td>VIR</td>\n",
       "      <td>Virgin Islands</td>\n",
       "      <td>UNITED STATES VIRGIN ISLANDS</td>\n",
       "      <td>[VIR_MBR_2020]</td>\n",
       "      <td>VIR_MBR_2020</td>\n",
       "      <td>North America</td>\n",
       "    </tr>\n",
       "    <tr>\n",
       "      <th>175</th>\n",
       "      <td>ZM</td>\n",
       "      <td>ZMB</td>\n",
       "      <td>Zambia</td>\n",
       "      <td>ZAMBIA</td>\n",
       "      <td>[ZMB_MBR_2021]</td>\n",
       "      <td>ZMB_MBR_2021</td>\n",
       "      <td>Africa</td>\n",
       "    </tr>\n",
       "    <tr>\n",
       "      <th>176</th>\n",
       "      <td>ZW</td>\n",
       "      <td>ZWE</td>\n",
       "      <td>Zimbabwe</td>\n",
       "      <td>ZIMBABWE</td>\n",
       "      <td>[ZWE_MBR_2021]</td>\n",
       "      <td>ZWE_MBR_2021</td>\n",
       "      <td>Africa</td>\n",
       "    </tr>\n",
       "  </tbody>\n",
       "</table>\n",
       "<p>177 rows × 7 columns</p>\n",
       "</div>"
      ],
      "text/plain": [
       "    iso2 iso3            name                           alt_name  \\\n",
       "0     AL  ALB         Albania                            ALBANIA   \n",
       "1     DZ  DZA         Algeria                            ALGERIA   \n",
       "2     AD  AND         Andorra                            ANDORRA   \n",
       "3     AO  AGO          Angola                             ANGOLA   \n",
       "4     AI  AIA        Anguilla                           ANGUILLA   \n",
       "..   ...  ...             ...                                ...   \n",
       "172   VE  VEN       Venezuela  VENEZUELA, BOLIVARIAN REPUBLIC OF   \n",
       "173   VN  VNM         Vietnam                           VIET NAM   \n",
       "174   VI  VIR  Virgin Islands       UNITED STATES VIRGIN ISLANDS   \n",
       "175   ZM  ZMB          Zambia                             ZAMBIA   \n",
       "176   ZW  ZWE        Zimbabwe                           ZIMBABWE   \n",
       "\n",
       "           datasets default_dataset      continent  \n",
       "0    [ALB_MBR_2021]    ALB_MBR_2021         Europe  \n",
       "1    [DZA_MBR_2021]    DZA_MBR_2021         Africa  \n",
       "2    [AND_MBR_2021]    AND_MBR_2021         Europe  \n",
       "3    [AGO_MBR_2021]    AGO_MBR_2021         Africa  \n",
       "4    [AIA_MBR_2020]    AIA_MBR_2020  North America  \n",
       "..              ...             ...            ...  \n",
       "172  [VEN_MBR_2021]    VEN_MBR_2021  South America  \n",
       "173  [VNM_MBR_2022]    VNM_MBR_2022           Asia  \n",
       "174  [VIR_MBR_2020]    VIR_MBR_2020  North America  \n",
       "175  [ZMB_MBR_2021]    ZMB_MBR_2021         Africa  \n",
       "176  [ZWE_MBR_2021]    ZWE_MBR_2021         Africa  \n",
       "\n",
       "[177 rows x 7 columns]"
      ]
     },
     "execution_count": 3,
     "metadata": {},
     "output_type": "execute_result"
    }
   ],
   "source": [
    "coun = get_countries()\n",
    "coun"
   ]
  },
  {
   "cell_type": "code",
   "execution_count": 4,
   "metadata": {},
   "outputs": [],
   "source": [
    "uz = Country.get('Uzbekistan')"
   ]
  },
  {
   "cell_type": "code",
   "execution_count": 5,
   "metadata": {},
   "outputs": [
    {
     "data": {
      "text/html": [
       "<div>\n",
       "<style scoped>\n",
       "    .dataframe tbody tr th:only-of-type {\n",
       "        vertical-align: middle;\n",
       "    }\n",
       "\n",
       "    .dataframe tbody tr th {\n",
       "        vertical-align: top;\n",
       "    }\n",
       "\n",
       "    .dataframe thead th {\n",
       "        text-align: right;\n",
       "    }\n",
       "</style>\n",
       "<table border=\"1\" class=\"dataframe\">\n",
       "  <thead>\n",
       "    <tr style=\"text-align: right;\">\n",
       "      <th></th>\n",
       "      <th>analysisVariable</th>\n",
       "      <th>alias</th>\n",
       "      <th>fieldCategory</th>\n",
       "      <th>vintage</th>\n",
       "    </tr>\n",
       "    <tr>\n",
       "      <th>dataCollectionID</th>\n",
       "      <th></th>\n",
       "      <th></th>\n",
       "      <th></th>\n",
       "      <th></th>\n",
       "    </tr>\n",
       "  </thead>\n",
       "  <tbody>\n",
       "    <tr>\n",
       "      <th>Gender</th>\n",
       "      <td>Gender.MALES_CY</td>\n",
       "      <td>2022 Total Male Population</td>\n",
       "      <td>2022 Male Population Totals (MBR)</td>\n",
       "      <td>2022</td>\n",
       "    </tr>\n",
       "    <tr>\n",
       "      <th>Gender</th>\n",
       "      <td>Gender.FEMALES_CY</td>\n",
       "      <td>2022 Total Female Population</td>\n",
       "      <td>2022 Female Population Totals (MBR)</td>\n",
       "      <td>2022</td>\n",
       "    </tr>\n",
       "    <tr>\n",
       "      <th>KeyFacts</th>\n",
       "      <td>KeyFacts.TOTPOP_CY</td>\n",
       "      <td>2022 Total Population</td>\n",
       "      <td>2022 Population Totals (MBR)</td>\n",
       "      <td>2022</td>\n",
       "    </tr>\n",
       "    <tr>\n",
       "      <th>KeyFacts</th>\n",
       "      <td>KeyFacts.POPDENS_CY</td>\n",
       "      <td>2022 Population Density (per sq. km)</td>\n",
       "      <td>2022 Population Totals (MBR)</td>\n",
       "      <td>2022</td>\n",
       "    </tr>\n",
       "    <tr>\n",
       "      <th>KeyFacts</th>\n",
       "      <td>KeyFacts.POPPRM_CY</td>\n",
       "      <td>2022 Population Per Mill</td>\n",
       "      <td>2022 Population Totals (MBR)</td>\n",
       "      <td>2022</td>\n",
       "    </tr>\n",
       "  </tbody>\n",
       "</table>\n",
       "</div>"
      ],
      "text/plain": [
       "                     analysisVariable                                 alias  \\\n",
       "dataCollectionID                                                              \n",
       "Gender                Gender.MALES_CY            2022 Total Male Population   \n",
       "Gender              Gender.FEMALES_CY          2022 Total Female Population   \n",
       "KeyFacts           KeyFacts.TOTPOP_CY                 2022 Total Population   \n",
       "KeyFacts          KeyFacts.POPDENS_CY  2022 Population Density (per sq. km)   \n",
       "KeyFacts           KeyFacts.POPPRM_CY              2022 Population Per Mill   \n",
       "\n",
       "                                        fieldCategory vintage  \n",
       "dataCollectionID                                               \n",
       "Gender              2022 Male Population Totals (MBR)    2022  \n",
       "Gender            2022 Female Population Totals (MBR)    2022  \n",
       "KeyFacts                 2022 Population Totals (MBR)    2022  \n",
       "KeyFacts                 2022 Population Totals (MBR)    2022  \n",
       "KeyFacts                 2022 Population Totals (MBR)    2022  "
      ]
     },
     "execution_count": 5,
     "metadata": {},
     "output_type": "execute_result"
    }
   ],
   "source": [
    "df = uz.data_collections\n",
    "\n",
    "# print a few rows of the DataFrame\n",
    "df.head()"
   ]
  },
  {
   "cell_type": "code",
   "execution_count": 6,
   "metadata": {},
   "outputs": [
    {
     "data": {
      "text/plain": [
       "(23, 4)"
      ]
     },
     "execution_count": 6,
     "metadata": {},
     "output_type": "execute_result"
    }
   ],
   "source": [
    "df.shape"
   ]
  },
  {
   "cell_type": "code",
   "execution_count": 27,
   "metadata": {},
   "outputs": [
    {
     "data": {
      "text/plain": [
       "Index(['Gender', 'KeyFacts', 'KeyGlobalFacts', 'PopulationTotals',\n",
       "       'PurchasingPower'],\n",
       "      dtype='object', name='dataCollectionID')"
      ]
     },
     "execution_count": 27,
     "metadata": {},
     "output_type": "execute_result"
    }
   ],
   "source": [
    "df.index.unique()"
   ]
  },
  {
   "cell_type": "code",
   "execution_count": 28,
   "metadata": {},
   "outputs": [
    {
     "data": {
      "text/plain": [
       "array(['KeyGlobalFacts.TOTPOP', 'KeyGlobalFacts.TOTHH',\n",
       "       'KeyGlobalFacts.AVGHHSZ', 'KeyGlobalFacts.TOTMALES',\n",
       "       'KeyGlobalFacts.TOTFEMALES'], dtype=object)"
      ]
     },
     "execution_count": 28,
     "metadata": {},
     "output_type": "execute_result"
    }
   ],
   "source": [
    "df.loc['KeyGlobalFacts']['analysisVariable'].unique()"
   ]
  },
  {
   "cell_type": "code",
   "execution_count": 29,
   "metadata": {},
   "outputs": [
    {
     "data": {
      "text/html": [
       "<div>\n",
       "<style scoped>\n",
       "    .dataframe tbody tr th:only-of-type {\n",
       "        vertical-align: middle;\n",
       "    }\n",
       "\n",
       "    .dataframe tbody tr th {\n",
       "        vertical-align: top;\n",
       "    }\n",
       "\n",
       "    .dataframe thead th {\n",
       "        text-align: right;\n",
       "    }\n",
       "</style>\n",
       "<table border=\"1\" class=\"dataframe\">\n",
       "  <thead>\n",
       "    <tr style=\"text-align: right;\">\n",
       "      <th></th>\n",
       "      <th>analysisVariable</th>\n",
       "      <th>alias</th>\n",
       "      <th>fieldCategory</th>\n",
       "      <th>vintage</th>\n",
       "    </tr>\n",
       "    <tr>\n",
       "      <th>dataCollectionID</th>\n",
       "      <th></th>\n",
       "      <th></th>\n",
       "      <th></th>\n",
       "      <th></th>\n",
       "    </tr>\n",
       "  </thead>\n",
       "  <tbody>\n",
       "    <tr>\n",
       "      <th>KeyGlobalFacts</th>\n",
       "      <td>KeyGlobalFacts.TOTPOP</td>\n",
       "      <td>Total Population</td>\n",
       "      <td>Key Demographic Indicators</td>\n",
       "      <td>NaN</td>\n",
       "    </tr>\n",
       "    <tr>\n",
       "      <th>KeyGlobalFacts</th>\n",
       "      <td>KeyGlobalFacts.TOTHH</td>\n",
       "      <td>Total Households</td>\n",
       "      <td>Key Demographic Indicators</td>\n",
       "      <td>NaN</td>\n",
       "    </tr>\n",
       "    <tr>\n",
       "      <th>KeyGlobalFacts</th>\n",
       "      <td>KeyGlobalFacts.AVGHHSZ</td>\n",
       "      <td>Average Household Size</td>\n",
       "      <td>Key Demographic Indicators</td>\n",
       "      <td>NaN</td>\n",
       "    </tr>\n",
       "    <tr>\n",
       "      <th>KeyGlobalFacts</th>\n",
       "      <td>KeyGlobalFacts.TOTMALES</td>\n",
       "      <td>Male Population</td>\n",
       "      <td>Age: 5 Year Increments</td>\n",
       "      <td>NaN</td>\n",
       "    </tr>\n",
       "    <tr>\n",
       "      <th>KeyGlobalFacts</th>\n",
       "      <td>KeyGlobalFacts.TOTFEMALES</td>\n",
       "      <td>Female Population</td>\n",
       "      <td>Age: 5 Year Increments</td>\n",
       "      <td>NaN</td>\n",
       "    </tr>\n",
       "  </tbody>\n",
       "</table>\n",
       "</div>"
      ],
      "text/plain": [
       "                           analysisVariable                   alias  \\\n",
       "dataCollectionID                                                      \n",
       "KeyGlobalFacts        KeyGlobalFacts.TOTPOP        Total Population   \n",
       "KeyGlobalFacts         KeyGlobalFacts.TOTHH        Total Households   \n",
       "KeyGlobalFacts       KeyGlobalFacts.AVGHHSZ  Average Household Size   \n",
       "KeyGlobalFacts      KeyGlobalFacts.TOTMALES         Male Population   \n",
       "KeyGlobalFacts    KeyGlobalFacts.TOTFEMALES       Female Population   \n",
       "\n",
       "                               fieldCategory vintage  \n",
       "dataCollectionID                                      \n",
       "KeyGlobalFacts    Key Demographic Indicators     NaN  \n",
       "KeyGlobalFacts    Key Demographic Indicators     NaN  \n",
       "KeyGlobalFacts    Key Demographic Indicators     NaN  \n",
       "KeyGlobalFacts        Age: 5 Year Increments     NaN  \n",
       "KeyGlobalFacts        Age: 5 Year Increments     NaN  "
      ]
     },
     "execution_count": 29,
     "metadata": {},
     "output_type": "execute_result"
    }
   ],
   "source": [
    "df.loc['KeyGlobalFacts'].head()"
   ]
  },
  {
   "cell_type": "code",
   "execution_count": 30,
   "metadata": {},
   "outputs": [],
   "source": [
    "# Enriching single address as single line imput\n",
    "single_address = enrich(study_areas=[\"Chilanzar\"], \n",
    "                       data_collections=['KeyGlobalFacts'])\n",
    "\n",
    "double_address = enrich(study_areas=[\"Tashkent\"], \n",
    "                       data_collections=['KeyGlobalFacts'])"
   ]
  },
  {
   "cell_type": "code",
   "execution_count": 31,
   "metadata": {},
   "outputs": [
    {
     "data": {
      "application/vnd.jupyter.widget-view+json": {
       "model_id": "6505e48447fc4344b3177baf8351227b",
       "version_major": 2,
       "version_minor": 0
      },
      "text/plain": [
       "MapView(layout=Layout(height='400px', width='100%'))"
      ]
     },
     "metadata": {},
     "output_type": "display_data"
    },
    {
     "data": {
      "text/html": [
       "<div class=\"map-static-img-preview-83cd3e5a-6bc8-4df0-8bdd-6fe88e2572d1\"><img src=\"\"></img></div>"
      ],
      "text/plain": [
       "<IPython.core.display.HTML object>"
      ]
     },
     "metadata": {},
     "output_type": "display_data"
    },
    {
     "data": {
      "text/html": [
       "<div class=\"map-html-embed-preview-83cd3e5a-6bc8-4df0-8bdd-6fe88e2572d1\"></div>"
      ],
      "text/plain": [
       "<IPython.core.display.HTML object>"
      ]
     },
     "metadata": {},
     "output_type": "display_data"
    }
   ],
   "source": [
    "# Plot on a map\n",
    "address_map = gis.map(\"Tashkent\",10)\n",
    "address_map"
   ]
  },
  {
   "cell_type": "code",
   "execution_count": 32,
   "metadata": {},
   "outputs": [
    {
     "data": {
      "text/plain": [
       "True"
      ]
     },
     "execution_count": 32,
     "metadata": {},
     "output_type": "execute_result"
    }
   ],
   "source": [
    "# single_address.astype(str).spatial.plot(address_map)\n",
    "\n",
    "single_address.astype(str).spatial.plot(map_widget=address_map,\n",
    "                   renderer_type='c',  # for class breaks renderer\n",
    "                   method='esriClassifyNaturalBreaks',  # classification algorithm\n",
    "                   class_count=1,  # choose the number of classes\n",
    "                   col='bufferRadii',  # numeric column to classify\n",
    "                   cmap='viridis',  # color map to pick colors from for each class\n",
    "                   alpha=0.7  # specify opacity\n",
    "                   )\n",
    "\n",
    "double_address.astype(str).spatial.plot(map_widget=address_map,\n",
    "                   renderer_type='c',  # for class breaks renderer\n",
    "                   method='esriClassifyNaturalBreaks',  # classification algorithm\n",
    "                   class_count=1,  # choose the number of classes\n",
    "                   col='bufferRadii',  # numeric column to classify\n",
    "                   cmap='viridis',  # color map to pick colors from for each class\n",
    "                   alpha=0.7  # specify opacity\n",
    "                   )"
   ]
  }
 ],
 "metadata": {
  "kernelspec": {
   "display_name": "Python 3",
   "language": "python",
   "name": "python3"
  },
  "language_info": {
   "codemirror_mode": {
    "name": "ipython",
    "version": 3
   },
   "file_extension": ".py",
   "mimetype": "text/x-python",
   "name": "python",
   "nbconvert_exporter": "python",
   "pygments_lexer": "ipython3",
   "version": "3.9.16 [MSC v.1931 64 bit (AMD64)]"
  },
  "orig_nbformat": 4,
  "vscode": {
   "interpreter": {
    "hash": "dcc3af3b87d8a63b886b645094ddeb93f88768d28ef21826534f155f924831ce"
   }
  }
 },
 "nbformat": 4,
 "nbformat_minor": 2
}
