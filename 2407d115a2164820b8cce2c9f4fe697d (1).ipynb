{
 "cells": [
  {
   "cell_type": "markdown",
   "metadata": {},
   "source": [
    "## Welcome to your notebook.\n"
   ]
  },
  {
   "cell_type": "markdown",
   "metadata": {},
   "source": [
    "#### Run this cell to connect to your GIS and get started:"
   ]
  },
  {
   "cell_type": "code",
   "execution_count": 2,
   "metadata": {},
   "outputs": [],
   "source": [
    "from arcgis.gis import GIS\n",
    "gis = GIS(\"home\")"
   ]
  },
  {
   "cell_type": "markdown",
   "metadata": {},
   "source": [
    "#### Now you are ready to start!"
   ]
  },
  {
   "cell_type": "code",
   "execution_count": 5,
   "metadata": {},
   "outputs": [
    {
     "data": {
      "application/vnd.jupyter.widget-view+json": {
       "model_id": "97f14d31cb594901989b450a13422b92",
       "version_major": 2,
       "version_minor": 0
      },
      "text/plain": [
       "MapView(layout=Layout(height='400px', width='100%'))"
      ]
     },
     "metadata": {},
     "output_type": "display_data"
    },
    {
     "data": {
      "text/html": [
       "<div class=\"map-static-img-preview-e6b9b002-bd34-4564-9eeb-aa9e088ba16a\"><img src=\"\"></img></div>"
      ],
      "text/plain": [
       "<IPython.core.display.HTML object>"
      ]
     },
     "metadata": {},
     "output_type": "display_data"
    },
    {
     "data": {
      "text/html": [
       "<div class=\"map-html-embed-preview-e6b9b002-bd34-4564-9eeb-aa9e088ba16a\"></div>"
      ],
      "text/plain": [
       "<IPython.core.display.HTML object>"
      ]
     },
     "metadata": {},
     "output_type": "display_data"
    }
   ],
   "source": [
    "map1=gis.map(\"Tashkent\")\n",
    "map1.basemap=\"dark-gray\"\n",
    "map1"
   ]
  },
  {
   "cell_type": "code",
   "execution_count": 7,
   "metadata": {},
   "outputs": [
    {
     "data": {
      "text/html": [
       "<div class=\"item_container\" style=\"height: auto; overflow: hidden; border: 1px solid #cfcfcf; border-radius: 2px; background: #f6fafa; line-height: 1.21429em; padding: 10px;\">\n",
       "                    <div class=\"item_left\" style=\"width: 210px; float: left;\">\n",
       "                       <a href='https://www.arcgis.com/home/item.html?id=8dcf5d4e124f480fa8c529fbe25ba04e' target='_blank'>\n",
       "                        <img src='data:image/png;base64,/9j/4AAQSkZJRgABAgAAAQABAAD/2wBDAAgGBgcGBQgHBwcJCQgKDBQNDAsLDBkSEw8UHRofHh0aHBwgJC4nICIsIxwcKDcpLDAxNDQ0Hyc5PTgyPC4zNDL/2wBDAQkJCQwLDBgNDRgyIRwhMjIyMjIyMjIyMjIyMjIyMjIyMjIyMjIyMjIyMjIyMjIyMjIyMjIyMjIyMjIyMjIyMjL/wAARCACFAMgDASIAAhEBAxEB/8QAHwAAAQUBAQEBAQEAAAAAAAAAAAECAwQFBgcICQoL/8QAtRAAAgEDAwIEAwUFBAQAAAF9AQIDAAQRBRIhMUEGE1FhByJxFDKBkaEII0KxwRVS0fAkM2JyggkKFhcYGRolJicoKSo0NTY3ODk6Q0RFRkdISUpTVFVWV1hZWmNkZWZnaGlqc3R1dnd4eXqDhIWGh4iJipKTlJWWl5iZmqKjpKWmp6ipqrKztLW2t7i5usLDxMXGx8jJytLT1NXW19jZ2uHi4+Tl5ufo6erx8vP09fb3+Pn6/8QAHwEAAwEBAQEBAQEBAQAAAAAAAAECAwQFBgcICQoL/8QAtREAAgECBAQDBAcFBAQAAQJ3AAECAxEEBSExBhJBUQdhcRMiMoEIFEKRobHBCSMzUvAVYnLRChYkNOEl8RcYGRomJygpKjU2Nzg5OkNERUZHSElKU1RVVldYWVpjZGVmZ2hpanN0dXZ3eHl6goOEhYaHiImKkpOUlZaXmJmaoqOkpaanqKmqsrO0tba3uLm6wsPExcbHyMnK0tPU1dbX2Nna4uPk5ebn6Onq8vP09fb3+Pn6/9oADAMBAAIRAxEAPwDy9isRYITuHy5xn6kVB0bHrUrYk3SLnjlgR0z/APX/AKVX8yPzMb1z06/59qALHnPtA+XgYBI5/OgTPkbjvA7PzUdFK4D28yRdxX5V7hQAOnpx3H6UeTKELmJ9qnaTtOAfT61NFfSRW32fZG8W/wAza65yfl/+Jx+JqZtWuHkMzJCZzIspl24JYAckA4PTPTqTVaD0KXlvnGxsg46d6VYZXAKxOwLbRhTyfT61aOq3JBBKYMvnH5er+v8AP8zSR6nPGYyqx7kmWYMQfvD8cY4o0DQqtG6khkYEEggj06/lSEMjnqrjg+34Vah1We3ihgTysQlimUBOWBDfXIIGOnyj8YJ5muLiSeTG+Vy7Y6ZJyaWnQQ1ppT1Ib32jP59ad5f2hl8sqCTyCcc+31/zxUtrp898r+VtCr1Z2wM+lRGOS3DrJGFkDBcHqOucCkpJuw3FpXewGJoz+9GzHVScN+Xb8aBLgbQiFe4IyT+PX8qlmktHWFY1mDiMCRmxgH8ByKrsCrFT1Bx1pvQlO6uOIjPIJX/ZxkD8c0SMGK45woGT3/z0/CmU7y5M48t84J+6eg6mkMFcbdrLuXORg4I/zx+VLmPP3WA+vNII3JwEYnGcAdsZ/lzWho62K3gbU1b7OUJB2tjPTPH5UN2VwKBjOflO4diKBHjlztA7Z5P4Us6oJpDErCIN8uQeAen6VHQBIFjcMQxTA6Nz39f/AK1SwWk9xa3EsEZkSEBpWHGwfj1/+tUSlPL2ksCTk4XOfTv9aeQ6RM0ZkWNxyDxuGevoRnH501bqKV7e6NtJo4bqKWWATRowLRscbh6VLFNanUxNNCy2pkJaKNuQp7A0afYvqFz5CSxRHaWLStgYFNaznW4aHy3Yrk5VScqP4h7VSva9jNuDk1fWw24SPzpWt/8AUbjsyeQueM0V0VvYRXNj9ntmjRsNK7MhBwOAA3fIopwg5rmQVKsKUnCbs0cLc3shZ442whPOO9MtrV5Cr8AAjg9aS9jKXDHHDcip7CckiAqzEn5cdu5p/Z0H11NFVLtgEDgnn2GahuJFQbVkG/GfmGB1x17fiKsRAh8kcFGwfX5TTXgYooIB3H7nc/h+P86zRoyMRGMbRkd8MKXPY0/fuQA8gdDmnALKrAIAVGcgmgCOg9OOtIuc7evPFTeQVdUkdY2YA4YHgGkBThtwqZkUNITlieealjgTzRsVQzcZ6VoyxabbvbSfanniKBplVCGU/wB0VUAjmkJgYqhb5BICDjPFU01qyIPmdki/byTafYvMkkEiSSbNhySCO+OP89q1r/TWl8Pwz2tkXldfNuJTtLL3yOc89SOfwrn726a6kTciL5a7AVXaTjufetaw1nVhZGBXje3wFAdQDgdcH1xxk5rnrXg1Knbzub0qUq3uTvdapL9TBZGQgMpUkZGRTyqu5KyKM9Acj9cYrU1a/ttUlnuZFa3nXCxwqAQfXOAMVn2UVvPeRx3Vx9nhYndJt3bePSt0r7GLlZXkrNb9f+HK5BBKkYI6itFtbumkSQrFlIxGuFIAAIIPXk5APP45qm7D5o/M3IjHy2II4+nbPFJ5af8APZPyb/Cmm1sUn2Lkes3UbRHEbeVGsahlPQbSM4OTgop/+txTP7UmMKQvHE8ax+Xht3IwoB4I5AjQcY6c5JOahjYAsPmXGcrz/wDq/GkVS5woz/SjmY7ssvqE0lq1swTyywY/LzkAAHP0GPTk1CISQPmQEjOGbBA9eaPJIALuiqe4YMfyBprtvIwCABgZOTj3pN9wSb2HExoPkYsx7sgAH0/yKZvYhhuPzYzz1qzHfPHp01kI4ikrhy5T5xj0NaQ8Kai9jDcxBZPNAOxeoBxz+Gef61E5xgrtiipN2sVzf2cllbrNYoJbcjYYxgTDI3bz34/nXRNr2nRyES3Duyw7Vkj5JHGEyOnfPTqO/SxdWy32m2mmCAfK6LIwIXywvUrnucEfjWVqV/Gli0Gn2sc0K24illMJBi57n+9708NN14e1elvxscuMpRo1VQWr/K/n8vmUvD9ldoV1NZBHaxOEmbeV+XvnHb/PpRUUdvaR+HXnk1B4ZyTmE8KfT654/P2NFbU6jSsjOthY15c0nbp/VzFvsyWpMoKrncGC4yf69f1rHjOHxvKq3ykj0rWvRLPbeWuCQ24ZOO3/AOr8qxypVipGGHGKIbHVPc27XdbxbA+5TnGR0BH/ANepN7eZ5mfmzuz71HbBBbRFizHb90cY/Grpjs2sFZJZfthkwYyvy7cevrmotcpu1iAYkXCxqrjn5c/N+H+FMVtpBFIR1B+hFSoBJzMQB/fzyfw7/X8zSKLlhdG0iuikKfvovLYMM8HuucnPT9PwguYgsjRPh242bF+9n1/Tt/PNTCVRpr20kNuWZg32gsC6jpgevT8M1VVHlTbFvVCMuMkgfl1//XVN6WJitW7WIjGI2KnORwQCat6ddR2d1vdDjaRuX7yk9x/L8TUV0kiSkyKqsxJIVsj+Zqzpumi+3s8nlxrxkDJJrmqaJ+02PQg4e77Fe9/VyLUbpLu782NSBtC7m6tjuf8APai2vvIh8sx7gORzio7u2a0ungZgxXHI7gjI/Q1BTUIOCS2Mfb1IVXJaMdI5kkZz1Y5NNoorVaGDbbuwq1dafPaW1tcS7PLuFLIVYH8/Sq8aeZKqblXcQMscAfWrAaTTtRXY0crxOAuPmUk8cfnVJdzKbaejKwJByCQfUVueF7L+0tYTzwklvDl3SQ/eJBC8dznH4D8KtPpiLokjX9msV00jsjocuxIyoCjPHX8AenWrumAaNooaedAS3mfLjMbHjawPU4HQen541LThOKlbpfzGqri4tRvd7eXcuQW2hXupXyi0DGIhGCqFAIzuI/Ef57cje6bIkct7AhNl5hCP7ZwD+f8ATtW74aEcmkapd3llJOZNxkmBHzDGSOueDzwP5Vsadpax6F9jZftQUYKscqxwCDgkd/ftXBDkptq70stWrf8AAPRji6sHe10+iTvbr8zn/C+lWtzHJdz7XKt5YjYAgbhjdg9cZz+FdWz/AGCYSRKgiKBREv3Rt9D1qW3tYNPjCn5EUMsaAKG2sQTnb7jtWRfaXPq13v8A7QuLaHOCqYO/2OT6D8qxr1YVZeyi9PS6fp1+7cqiqjk8TWVlrZN2svy89dVsVbrxFZx3kIIC3E8gBeVjGiLu65B7jg//AFq5u+vZYJbq0hvFlhMpLvGcq5+vcVq+M9MjutOiuVuCDbpsjQqoBAXP16Dv+VcxpUdlJbQxu8nmuxDoqE9xjnHcZ49h68e5BrkUY6W+X4HjU6Kc/au3ved+vfyM2+uxcEKvIHfGM9qKuz6farIGZJ1jdA+6NSQq9zgjn8wOfyK0itNDRp31N3/hHLvc8ZlhEquEC5OD8pY8+wH6+vFMfQJ0jSZpI/KdHYNg5+UZII6j0yf/AK1Z0s0kyReZLI6qu1FdidgHYZ7fSo8VgahRRRQBM7LiPzAzMF5yfcnH5EVEzFsZPQYHGKfMDuDY4YDBxweBmowMnA5pgWbeykuba5nR4gtuoZg74Jz6etaLeH9SFlDKkcb7xzGHwVBGQTkgdPf2rKRTGS7YBAyFJ5J7f4/h71p2HiDVhLBBHMjjIjRXUAegyRg8fWsqvOrOFvMcFvffoZOWhlZXUkBsMpGCBn+fHpVq2uJLYl7V2EZ4ckr0B9On/wBetTWPDtzakXAnScyFiwA24I5OAevX9Ky7FbXdi7MiwlwJSgBIHY06c4Vo6O6Lkp0fe1RVkkeaRpJGLOxySe9Np0mzzZBFuMYYhS3UjtTau1tDO99QpMjGc0tWHsbiOwjvmjxbyOUV8jkj269jTSuJyS3K2725q/p1pcyzQyxGBD5hCec4AYgAnjqRyPzqtZ/8fsW2D7Sd+BF3Y9MVJNPcRPPbFTCu87of7vIOPXqq/wDfI9KpWWrJbveHkdjp+sz2/lW17byGdxtGCAOXKqByMDKn06ZzyCLEkA1BgJYiQxVGgmwWV3AYHr8ud3PH5YArkUhvbiCC6iu1kneUosQf51OS+72GSxz711enLLFbQQ3UUaXSxABHBCSJghckZyx9P/10KknJyW7s/wALfkcledOEEo9Lr9dtOv3Fq3txYw7Y5XhhZzvSNU2MwAyBkZGR6ehraMjzKXjkG1WA3RsD9cZHPHH51wE2pxQyvBefbI7gXJWYEg/usAEd+eB7V1mjPZNbBbX5IWLMvyFSMEYbJGM89OleTi8JGEFVjFNre+vr2ud1DESlJ06knZ/DbS/bVXsMutRhuZxEuDImQx7H6etOci30ma7eYIEDOflzgAEY+vWqEgtz4jmWOSEhAG3SttXcR1Jx6+gxnipiFvYJSsKb3RwYyvA4xnceM4GeB/XEYXA1ZSjOlpHe+n5HZj8wwtOn7GersrrX8zzLWten1S7lZMxWzcJEP4V44z+A4qCx1F7eMws4EIy2MdSQVP6E10usaDpGk6dbtLFIqyjatwGYszZyS3GBj2HPPQjnNWz8OSyXAt7qYrGodDO4TeP4hyOoOOB1z7V7FNw5bROGTk2pN/8ADFG61yW4fcyRyZ6+YnXp2H0FFW5h4eVbmSzlm88spgSQHaoyC3OPQMBn1Heir5vIWr6mlq1tZWegJNbyjzFwUJbPmFiMjb2wMn8OaxreUTQq/fofrV62s4p7oRXcR+Ubgj5GTjj9Dmq+tW0WniGa2/dM5IMWeD74rlg+WXs222zsnSlOn7ZJJISitDTbGR7E313ax+Qy7gHZg+wH5nUDHOAcZyD6YpIToUrQq1+6qS3mMB8w5O3AI9MfrWikpXt0OdxcbX6lYhGgQjcMZyAM8+p9OMfkfSmBkXpuJxwTx+nNO3wo7yqw8vLKg9cjH6A/yqAOrEAMCScAA9TVCHEgDJpY1yNx4A/OnRrsudkyldpwQw+77kex7e1SKGkukjmOcuAdpzn346/Wk9EOKuzrfDmqXGoSkTbibdOJdxZixYbV5zgZHWpdWs7SW4kuZYWXbujbJCsCOuSCBkj1yMHt1FOyvLPTbCdJ4xHKeMEYz7Y7/j0q1qFxY3trZOG2xEhhDv8AlOQCRjPzbcAc9PavPqVWmmk99LbW9O51wwvLXa0s1Z33v3Xl/wAMYCXWjrNcj7JMsLbPLUgM3R9wLE/Lyy4IB+4Mjk064udHFs6R2EgJyYpOmMkY/jPGM8Ekjj3q7qVol9EjWzQCUMVZsdeBx068j86mutOnt/D4heZ44Y/32FTHzdyD3+lbwxVNpc2jYquDqRk1DVL5HNrBbtp4l+0E3Rl2/Zwhztx1zVnUotOWOE6bdTyqfvRSrgocDJz06/yq3c/YX0mPyXDHgRqpwxOcsD1x68+gxUWoabHb6NbXauzF2AJYjnIyRxzx05rojWTVrHFOjyyTc/6fQp3Itob7zdMlnCxBSsjj5g/fBHFVGaee5leXe8vLSEg5+p/Ono/klZCgLnB+bgY+grpdB0gmGG9lnMkVwrJJChCsy4JHzH/PUdq0TTdn1M5tUoc29ilpOqWNjHC0tk8bruV7pWJyCc4x06cd+vSuj1C6Szt5madIEmQMPJQEtLjIGMnA75H49qxLmyu59GtbLT47j7MW82dJwq7XPTaeCR+dXbUaVpIt52kkhmjQgpNEu93I5PIwUzxn9a6YNr3Tyq8YzfPrd303/wCG/ExtHUXpuortFKS4aa+kQu0PU5/E8V1aXbSWgmnnSeNAJDJCMoTwNrjog4z0PJ9q5qC5uoXl0vS1F5HMGYq0WfmKkFhjtjp2rWF2i6WVsprYvbwpNJCW2rgE5j29WOcnr3/ClBJqzKxHM53S3/L9L7Fm0ktbpYL5LWSIxyFFLxh/lwdzMmdx4xz6/rZaFmdt7eaYYCfJL/MpGPnxn5c5BB5+lZNzd30uq2MENyIBLbKZXtG83C8nOMfL1P0zTryCx0u1n1GAMGARER5D88nXAzk9MAYOR3yabqNXUFd/cZRoqTTqSsn87GX48u4orK202SIi4UrIDv3KowQcH0J7e1cHWx4ku9RvNTWXUoHhk8sbEc5wvOP61j1hTTUfeVmevaMVyxlzJdQoooqwOkubqa7m86d90mMbsAfyqGaNbt0eZyXj6FuQw9D/AJ9aKcEdhkKxH0rDrc6LvY6PVvErajphijh8sN8rkuCeeoA6gcfr7VxE9iYkLoxYDqK1SAiMu4FiR0OQMf5FZt9cEZhXjI5P9KihSjSXLTVkFWbnrIoVJBPJbXEc8LbZI2DI3oR0qOiuo5zYTV3up5JbuPzrhzuZznn8FxXU+G9PN7cyXyvGjw/KI+wBUjnPOMHj/OfP1ZkYMpII6EV2vhFL68SWZWSOFN2WBOTgDdxznsfrXJjITlTag9WdeEnThL39El8ka8emSXrXWp3ogjMZCiIgNgRnBJzwR8uPfntgVBYppN7cT2yIhIfzUbaFBXAG0bueD69s1X1JYEW736lKf3iK1qJCdzhV3MfUZB59hRcW2l21pdwfaIDIFjaIgFyxwM4PGOcn8fymlSqqm4uW+3kRWrQ9onG+j+/Ulv8AVkS+l8qaNAGxiNcjjgEe+B/nFNXxA2oxCzu/JjhVflLZwSOBkk46fhn8K5yq9zcpCpXPzkcCpeGjN3lq+5v9ZcYqMVaK6HT6npUOnvaXVxGxsmclo0IBIGM4OfXPXHXHbhovrW+iupUgcoQXiGcYALMwbvk8g47ZrjZ9Qu7mFYZp3eNcEKe+BgZ9fxqSzvjBG0L5KMQQf7vXP9PyrrgnGNjib5pXb/TqdU4uWlLyW8IBkIIZsd9jDPplgf5d6nWS9byYI7C3SWKRju24J3pkhj1wA38gK58MxYncfbn/AD6VasZ5LW8ScTbX4AB5yD6+gxS52loatRk1c6JZ7iI3GlancmO3cALcI3OB0UZwMZ4JI4PpVK7it59TW0jlbUf3HlQKZQdjH0YcEAVmXt/PdXTtdIuSoBCEY65BByf8mpp9YtNN0WS0FqftrMSsnHyn1znOR2wP5mk5zbRz/V4Ru1u/z7nRiK9j0ySG5uIF1LyE+zyIMOqjgruH3SOck+tS28Vu91HfafciJltjHGBAFJxgHcDkZOT9MfSuf8NeJp7u5httWe1+xxLkSzQlsFVO0ce5zmsDU/EWq3crQyXzNFG7bQhwOTzz3/E12c0dzy1h6rk47fkd1c6jp2lXNx508dpOFwrr8zkquCuV7Hj/AOt0FO2u7LV/ElqySwyW0ULTpBGdiKw2gZHGG6+vQV5yzs7FnYsx6knJp0M0kEySxOUkQ5Vh2NS56nTHCJReur6nW3sui6vq6NqN3cJOzMJS8m1Iwo+VeVz/AD/HNcjIFErhCSm47SfSllkeaVpZGLO5JZj3NMrPrc64pRiopbBRRRQM6ISmMjyWZSP4ujZ/Co3nSIM0zHa3BPU57Vny6gSMRKR7mqjyvIcuxb61koPqaOa6Fqa/LLiIFc9SetOVNOkkhTfMo2gOwXktySe/HQDp16cHNCnwyGGVZAqsV7MOK1jZGcm2XNmmktl5Uwq4AHJbHzduOfrVWYQgr5LMw2/Nu9cnp+GKsNqTuCDb24yjrwh/i/HnHbNUqptdCUmFamla5d6WpiiZDE7ZIcZx2P6Vl0VDinuWpNbHYRpLqNw2o3zFofNAncEAnOBx+lTvaaXPNBZWskouDMyvKSChTqMep7fWs/SRdanpBt1mQi3YbIT1Yk9qvP4ek/tVNMe4SOSRMljj5T0x15/wqJRfK0l8zJSip+9Lbp5LuV9S/s/RLqNHZruUE+ZB93aCOMn16cVykj+ZKz4xuJOM5xVjUbM6fqM9oZFkMTld69DVWqgrRRo9W2FFFFUBt2rWwsZHmuhHIkQKJjPmN6e1Slg8aTDgP/MY/wARXP1qwzb9JYjG+H5QD0Oc8/59qzlHQuD1dzY89bW3nt59PAnk27JJQQyY9j+VULq3+12+0fwgFGPQE9VJ7ZIOPoa2m8T3l3BM+22QvgHyd4KkktkZbg5J59+1PuPFdzKG2wRKXKs/LYypyMYI2jPYfzzmeZlKKV/M5aC+utMsbyya1j23agFpY/mUAnlT+f5Vm1v+JNRnvvIjmWMCBpApXOeTk5yTnnv19zWBWqd0ZOKi3YKkhXfMgxkZGR7VHTo3aNwyHDDoabBE96kaTBYwBxyBVappgjSyEkq2T8p5qGkthvcKKKKYjTXTogBlnJ788VSugizlYwAq8VrXUyRRlwqrjgAZ5P41iElmLE5J5NRC71ZcrLRCUUUVZAUUUUAFFFFAHVeD73JuNOklSNGUyqzPtJIGCo45JFUNSnjVpTF5iq7EJk/MPTNZVpdz2VytxbuUlXOGxmrmmpDqWq51C/W2UguZXXIJHb8aJLmsjOKVOUp9GZpyCc9aKsXhjNwTGQQRzjpmq9CNGFFFFABVpJPL02QDrI+08dAMH/P41VqzayjDW74CycAnsaTGhlvO1vJuHIPBHtXU+H7vRkklm1MlY2QeWz54OeQNvI//AF9K5We2ltmCyrjPQg5BqLJPfpWdSmqkWr29CoTcHexav7hJ7qTyd3kK7eVu+9tzxn3xiqtFFaJWViW7u4UuMDnr2FOjieV9qDJ60w5BwetMRIu0wNxhgfvZ657UszF9pA+UAKDSRuiA7owxPHJ6VZvXiCLEgHGCCOn+elT1K6FKiiiqJLN7M0kxQ8KhwBVaiikthvcKKKKYgooooAKKKKACiiigAooooAKKKKALFoymURvGrhj37UXUYguPkOP4h7UUVP2ivsl65xJZFiP4QR7VmPHsHXNFFKA5DKfEu+VF9SBRRVvYhG8IrWKNDHCy5JXh+uMcnI96xLmQyXD9gDgCiis4as0nsQ0UUVoZhRRRQB//2Q==' width='200' height='133' class=\"itemThumbnail\">\n",
       "                       </a>\n",
       "                    </div>\n",
       "\n",
       "                    <div class=\"item_right\"     style=\"float: none; width: auto; overflow: hidden;\">\n",
       "                        <a href='https://www.arcgis.com/home/item.html?id=8dcf5d4e124f480fa8c529fbe25ba04e' target='_blank'><b>Recent Conditions in Air Quality</b>\n",
       "                        </a>\n",
       "                        <br/>This layer shows the latest values for global air quality from ground-based monitoring stations compiled by OpenAQ.<img src='https://www.arcgis.com/home/js/jsapi/esri/css/images/item_type_icons/featureshosted16.png' style=\"vertical-align:middle;\">Feature Layer Collection by esri_livefeeds2\n",
       "                        <br/>Last Modified: January 26, 2023\n",
       "                        <br/>21 comments, 1113385 views\n",
       "                    </div>\n",
       "                </div>\n",
       "                "
      ],
      "text/plain": [
       "<Item title:\"Recent Conditions in Air Quality\" type:Feature Layer Collection owner:esri_livefeeds2>"
      ]
     },
     "execution_count": 7,
     "metadata": {},
     "output_type": "execute_result"
    }
   ],
   "source": [
    "new_layer=gis.content.get('8dcf5d4e124f480fa8c529fbe25ba04e')\n",
    "new_layer"
   ]
  },
  {
   "cell_type": "code",
   "execution_count": 8,
   "metadata": {},
   "outputs": [
    {
     "data": {
      "application/vnd.jupyter.widget-view+json": {
       "model_id": "97f14d31cb594901989b450a13422b92",
       "version_major": 2,
       "version_minor": 0
      },
      "text/plain": [
       "MapView(jupyter_target='notebook', layout=Layout(height='400px', width='100%'), ready=True)"
      ]
     },
     "metadata": {},
     "output_type": "display_data"
    },
    {
     "data": {
      "text/html": [
       "<div class=\"map-static-img-preview-e6b9b002-bd34-4564-9eeb-aa9e088ba16a\"><img src=\"\"></img></div>"
      ],
      "text/plain": [
       "<IPython.core.display.HTML object>"
      ]
     },
     "metadata": {},
     "output_type": "display_data"
    },
    {
     "data": {
      "text/html": [
       "<div class=\"map-html-embed-preview-e6b9b002-bd34-4564-9eeb-aa9e088ba16a\"></div>"
      ],
      "text/plain": [
       "<IPython.core.display.HTML object>"
      ]
     },
     "metadata": {},
     "output_type": "display_data"
    }
   ],
   "source": [
    "map1.add_layer(new_layer)\n",
    "map1"
   ]
  },
  {
   "cell_type": "code",
   "execution_count": null,
   "metadata": {},
   "outputs": [],
   "source": []
  }
 ],
 "metadata": {
  "esriNotebookRuntime": {
   "notebookRuntimeName": "ArcGIS Notebook Python 3 Standard",
   "notebookRuntimeVersion": "7.0"
  },
  "kernelspec": {
   "display_name": "Python 3 (ipykernel)",
   "language": "python",
   "name": "python3"
  },
  "language_info": {
   "codemirror_mode": {
    "name": "ipython",
    "version": 3
   },
   "file_extension": ".py",
   "mimetype": "text/x-python",
   "name": "python",
   "nbconvert_exporter": "python",
   "pygments_lexer": "ipython3",
   "version": "3.9.11"
  }
 },
 "nbformat": 4,
 "nbformat_minor": 2
}
